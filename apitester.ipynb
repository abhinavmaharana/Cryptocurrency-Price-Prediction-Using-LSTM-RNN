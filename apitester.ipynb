{
 "cells": [
  {
   "cell_type": "code",
   "execution_count": 86,
   "metadata": {},
   "outputs": [],
   "source": [
    "# import urllib.request\n",
    "# api_key = \"3582852b882fe86a312cda6912221cfcc87c0591\""
   ]
  },
  {
   "cell_type": "code",
   "execution_count": 87,
   "metadata": {},
   "outputs": [],
   "source": [
    "# url = \"https://api.nomics.com/v1/currencies/ticker?key=3582852b882fe86a312cda6912221cfcc87c0591&ids=BTC,ETH,XRP&interval=1d,30d&convert=EUR&per-page=100&page=1\"\n"
   ]
  },
  {
   "cell_type": "code",
   "execution_count": 2,
   "metadata": {},
   "outputs": [
    {
     "name": "stdout",
     "output_type": "stream",
     "text": [
      "Defaulting to user installation because normal site-packages is not writeable\n",
      "Collecting pandas\n",
      "  Downloading pandas-1.2.4-cp38-cp38-manylinux1_x86_64.whl (9.7 MB)\n",
      "\u001b[K     |████████████████████████████████| 9.7 MB 5.8 MB/s eta 0:00:01\n",
      "\u001b[?25hRequirement already satisfied: python-dateutil>=2.7.3 in /usr/lib/python3/dist-packages (from pandas) (2.7.3)\n",
      "Requirement already satisfied: pytz>=2017.3 in /usr/lib/python3/dist-packages (from pandas) (2019.3)\n",
      "Requirement already satisfied: numpy>=1.16.5 in /usr/lib/python3/dist-packages (from pandas) (1.17.4)\n",
      "Installing collected packages: pandas\n",
      "Successfully installed pandas-1.2.4\n"
     ]
    }
   ],
   "source": [
    "# print(urllib.request.urlopen(url).read())5cf36bc5da44b87def13593339d8278849f651e576ece3b95b08b86264df2756\n",
    "!python3 -m pip install pandas"
   ]
  },
  {
   "cell_type": "code",
   "execution_count": 3,
   "metadata": {},
   "outputs": [],
   "source": [
    "import json\n",
    "import requests\n",
    "import numpy as np\n",
    "import pandas as pd\n"
   ]
  },
  {
   "cell_type": "code",
   "execution_count": 4,
   "metadata": {},
   "outputs": [],
   "source": [
    "headers = {\n",
    "  'authorization': '5cf36bc5da44b87def13593339d8278849f651e576ece3b95b08b86264df2756',\n",
    "}"
   ]
  },
  {
   "cell_type": "code",
   "execution_count": 8,
   "metadata": {},
   "outputs": [],
   "source": [
    "endpoint = 'https://min-api.cryptocompare.com/data/v2/histoday'\n",
    "res = requests.get(endpoint + '?fsym=BTC&tsym=INR&limit=500')\n",
    "hist = pd.DataFrame(json.loads(res.content)['Data'])\n",
    "# hist = hist.set_index('time')\n",
    "# hist.index = pd.to_datetime(hist.index, unit='s')\n",
    "target_col = 'close'"
   ]
  },
  {
   "cell_type": "code",
   "execution_count": 10,
   "metadata": {},
   "outputs": [
    {
     "data": {
      "text/html": [
       "<div>\n",
       "<style scoped>\n",
       "    .dataframe tbody tr th:only-of-type {\n",
       "        vertical-align: middle;\n",
       "    }\n",
       "\n",
       "    .dataframe tbody tr th {\n",
       "        vertical-align: top;\n",
       "    }\n",
       "\n",
       "    .dataframe thead th {\n",
       "        text-align: right;\n",
       "    }\n",
       "</style>\n",
       "<table border=\"1\" class=\"dataframe\">\n",
       "  <thead>\n",
       "    <tr style=\"text-align: right;\">\n",
       "      <th></th>\n",
       "      <th>Aggregated</th>\n",
       "      <th>TimeFrom</th>\n",
       "      <th>TimeTo</th>\n",
       "      <th>Data</th>\n",
       "    </tr>\n",
       "  </thead>\n",
       "  <tbody>\n",
       "    <tr>\n",
       "      <th>0</th>\n",
       "      <td>False</td>\n",
       "      <td>1580688000</td>\n",
       "      <td>1623888000</td>\n",
       "      <td>{'time': 1580688000, 'high': 1062569.78, 'low'...</td>\n",
       "    </tr>\n",
       "    <tr>\n",
       "      <th>1</th>\n",
       "      <td>False</td>\n",
       "      <td>1580688000</td>\n",
       "      <td>1623888000</td>\n",
       "      <td>{'time': 1580774400, 'high': 1041426.92, 'low'...</td>\n",
       "    </tr>\n",
       "    <tr>\n",
       "      <th>2</th>\n",
       "      <td>False</td>\n",
       "      <td>1580688000</td>\n",
       "      <td>1623888000</td>\n",
       "      <td>{'time': 1580860800, 'high': 1275570.46, 'low'...</td>\n",
       "    </tr>\n",
       "    <tr>\n",
       "      <th>3</th>\n",
       "      <td>False</td>\n",
       "      <td>1580688000</td>\n",
       "      <td>1623888000</td>\n",
       "      <td>{'time': 1580947200, 'high': 862537.41, 'low':...</td>\n",
       "    </tr>\n",
       "    <tr>\n",
       "      <th>4</th>\n",
       "      <td>False</td>\n",
       "      <td>1580688000</td>\n",
       "      <td>1623888000</td>\n",
       "      <td>{'time': 1581033600, 'high': 1336005.34, 'low'...</td>\n",
       "    </tr>\n",
       "    <tr>\n",
       "      <th>...</th>\n",
       "      <td>...</td>\n",
       "      <td>...</td>\n",
       "      <td>...</td>\n",
       "      <td>...</td>\n",
       "    </tr>\n",
       "    <tr>\n",
       "      <th>496</th>\n",
       "      <td>False</td>\n",
       "      <td>1580688000</td>\n",
       "      <td>1623888000</td>\n",
       "      <td>{'time': 1623542400, 'high': 3982234.44, 'low'...</td>\n",
       "    </tr>\n",
       "    <tr>\n",
       "      <th>497</th>\n",
       "      <td>False</td>\n",
       "      <td>1580688000</td>\n",
       "      <td>1623888000</td>\n",
       "      <td>{'time': 1623628800, 'high': 5540048.06, 'low'...</td>\n",
       "    </tr>\n",
       "    <tr>\n",
       "      <th>498</th>\n",
       "      <td>False</td>\n",
       "      <td>1580688000</td>\n",
       "      <td>1623888000</td>\n",
       "      <td>{'time': 1623715200, 'high': 4698000.72, 'low'...</td>\n",
       "    </tr>\n",
       "    <tr>\n",
       "      <th>499</th>\n",
       "      <td>False</td>\n",
       "      <td>1580688000</td>\n",
       "      <td>1623888000</td>\n",
       "      <td>{'time': 1623801600, 'high': 4698000.72, 'low'...</td>\n",
       "    </tr>\n",
       "    <tr>\n",
       "      <th>500</th>\n",
       "      <td>False</td>\n",
       "      <td>1580688000</td>\n",
       "      <td>1623888000</td>\n",
       "      <td>{'time': 1623888000, 'high': 3814464.45, 'low'...</td>\n",
       "    </tr>\n",
       "  </tbody>\n",
       "</table>\n",
       "<p>501 rows × 4 columns</p>\n",
       "</div>"
      ],
      "text/plain": [
       "     Aggregated    TimeFrom      TimeTo  \\\n",
       "0         False  1580688000  1623888000   \n",
       "1         False  1580688000  1623888000   \n",
       "2         False  1580688000  1623888000   \n",
       "3         False  1580688000  1623888000   \n",
       "4         False  1580688000  1623888000   \n",
       "..          ...         ...         ...   \n",
       "496       False  1580688000  1623888000   \n",
       "497       False  1580688000  1623888000   \n",
       "498       False  1580688000  1623888000   \n",
       "499       False  1580688000  1623888000   \n",
       "500       False  1580688000  1623888000   \n",
       "\n",
       "                                                  Data  \n",
       "0    {'time': 1580688000, 'high': 1062569.78, 'low'...  \n",
       "1    {'time': 1580774400, 'high': 1041426.92, 'low'...  \n",
       "2    {'time': 1580860800, 'high': 1275570.46, 'low'...  \n",
       "3    {'time': 1580947200, 'high': 862537.41, 'low':...  \n",
       "4    {'time': 1581033600, 'high': 1336005.34, 'low'...  \n",
       "..                                                 ...  \n",
       "496  {'time': 1623542400, 'high': 3982234.44, 'low'...  \n",
       "497  {'time': 1623628800, 'high': 5540048.06, 'low'...  \n",
       "498  {'time': 1623715200, 'high': 4698000.72, 'low'...  \n",
       "499  {'time': 1623801600, 'high': 4698000.72, 'low'...  \n",
       "500  {'time': 1623888000, 'high': 3814464.45, 'low'...  \n",
       "\n",
       "[501 rows x 4 columns]"
      ]
     },
     "execution_count": 10,
     "metadata": {},
     "output_type": "execute_result"
    }
   ],
   "source": [
    "hist"
   ]
  },
  {
   "cell_type": "code",
   "execution_count": null,
   "metadata": {},
   "outputs": [],
   "source": []
  }
 ],
 "metadata": {
  "kernelspec": {
   "display_name": "Python 3",
   "language": "python",
   "name": "python3"
  },
  "language_info": {
   "codemirror_mode": {
    "name": "ipython",
    "version": 3
   },
   "file_extension": ".py",
   "mimetype": "text/x-python",
   "name": "python",
   "nbconvert_exporter": "python",
   "pygments_lexer": "ipython3",
   "version": "3.8.5"
  }
 },
 "nbformat": 4,
 "nbformat_minor": 2
}
