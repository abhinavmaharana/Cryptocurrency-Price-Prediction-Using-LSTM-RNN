{
 "metadata": {
  "language_info": {
   "codemirror_mode": {
    "name": "ipython",
    "version": 3
   },
   "file_extension": ".py",
   "mimetype": "text/x-python",
   "name": "python",
   "nbconvert_exporter": "python",
   "pygments_lexer": "ipython3",
   "version": "3.9.5"
  },
  "orig_nbformat": 2,
  "kernelspec": {
   "name": "python395jvsc74a57bd05283744c9ccbd265043245519079b7f0f45486ef9e2907bd3d291d9c750a664d",
   "display_name": "Python 3.9.5 64-bit ('tensorflow': conda)"
  }
 },
 "nbformat": 4,
 "nbformat_minor": 2,
 "cells": [
  {
   "cell_type": "code",
   "execution_count": 86,
   "metadata": {},
   "outputs": [],
   "source": [
    "# import urllib.request\n",
    "# api_key = \"3582852b882fe86a312cda6912221cfcc87c0591\""
   ]
  },
  {
   "cell_type": "code",
   "execution_count": 87,
   "metadata": {},
   "outputs": [],
   "source": [
    "# url = \"https://api.nomics.com/v1/currencies/ticker?key=3582852b882fe86a312cda6912221cfcc87c0591&ids=BTC,ETH,XRP&interval=1d,30d&convert=EUR&per-page=100&page=1\"\n"
   ]
  },
  {
   "cell_type": "code",
   "execution_count": 88,
   "metadata": {},
   "outputs": [],
   "source": [
    "# print(urllib.request.urlopen(url).read())5cf36bc5da44b87def13593339d8278849f651e576ece3b95b08b86264df2756"
   ]
  },
  {
   "cell_type": "code",
   "execution_count": 89,
   "metadata": {},
   "outputs": [],
   "source": [
    "import json\n",
    "import requests\n",
    "import numpy as np\n",
    "import pandas as pd\n"
   ]
  },
  {
   "cell_type": "code",
   "execution_count": 90,
   "metadata": {},
   "outputs": [],
   "source": [
    "headers = {\n",
    "  'authorization': '5cf36bc5da44b87def13593339d8278849f651e576ece3b95b08b86264df2756',\n",
    "}"
   ]
  },
  {
   "cell_type": "code",
   "execution_count": 91,
   "metadata": {},
   "outputs": [],
   "source": [
    "endpoint = 'https://min-api.cryptocompare.com/data/v2/histoday'\n",
    "res = requests.get(endpoint + '?fsym=BTC&tsym=INR&limit=500')\n",
    "hist = pd.DataFrame(json.loads(res.content)['Data'])\n",
    "# hist = hist.set_index('time')\n",
    "# hist.index = pd.to_datetime(hist.index, unit='s')\n",
    "target_col = 'close'"
   ]
  },
  {
   "cell_type": "code",
   "execution_count": 92,
   "metadata": {},
   "outputs": [
    {
     "output_type": "execute_result",
     "data": {
      "text/plain": [
       "   Aggregated    TimeFrom      TimeTo  \\\n",
       "0       False  1580688000  1623888000   \n",
       "1       False  1580688000  1623888000   \n",
       "2       False  1580688000  1623888000   \n",
       "3       False  1580688000  1623888000   \n",
       "4       False  1580688000  1623888000   \n",
       "\n",
       "                                                Data  \n",
       "0  {'time': 1580688000, 'high': 1062569.78, 'low'...  \n",
       "1  {'time': 1580774400, 'high': 1041426.92, 'low'...  \n",
       "2  {'time': 1580860800, 'high': 1275570.46, 'low'...  \n",
       "3  {'time': 1580947200, 'high': 862537.41, 'low':...  \n",
       "4  {'time': 1581033600, 'high': 1336005.34, 'low'...  "
      ],
      "text/html": "<div>\n<style scoped>\n    .dataframe tbody tr th:only-of-type {\n        vertical-align: middle;\n    }\n\n    .dataframe tbody tr th {\n        vertical-align: top;\n    }\n\n    .dataframe thead th {\n        text-align: right;\n    }\n</style>\n<table border=\"1\" class=\"dataframe\">\n  <thead>\n    <tr style=\"text-align: right;\">\n      <th></th>\n      <th>Aggregated</th>\n      <th>TimeFrom</th>\n      <th>TimeTo</th>\n      <th>Data</th>\n    </tr>\n  </thead>\n  <tbody>\n    <tr>\n      <th>0</th>\n      <td>False</td>\n      <td>1580688000</td>\n      <td>1623888000</td>\n      <td>{'time': 1580688000, 'high': 1062569.78, 'low'...</td>\n    </tr>\n    <tr>\n      <th>1</th>\n      <td>False</td>\n      <td>1580688000</td>\n      <td>1623888000</td>\n      <td>{'time': 1580774400, 'high': 1041426.92, 'low'...</td>\n    </tr>\n    <tr>\n      <th>2</th>\n      <td>False</td>\n      <td>1580688000</td>\n      <td>1623888000</td>\n      <td>{'time': 1580860800, 'high': 1275570.46, 'low'...</td>\n    </tr>\n    <tr>\n      <th>3</th>\n      <td>False</td>\n      <td>1580688000</td>\n      <td>1623888000</td>\n      <td>{'time': 1580947200, 'high': 862537.41, 'low':...</td>\n    </tr>\n    <tr>\n      <th>4</th>\n      <td>False</td>\n      <td>1580688000</td>\n      <td>1623888000</td>\n      <td>{'time': 1581033600, 'high': 1336005.34, 'low'...</td>\n    </tr>\n  </tbody>\n</table>\n</div>"
     },
     "metadata": {},
     "execution_count": 92
    }
   ],
   "source": [
    "hist.head(5)"
   ]
  }
 ]
}